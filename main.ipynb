{
 "cells": [
  {
   "cell_type": "code",
   "execution_count": null,
   "metadata": {},
   "outputs": [],
   "source": [
    "####IMPORT MODULES\n",
    "from bs4 import BeautifulSoup\n",
    "from datetime import datetime\n",
    "import requests\n",
    "import random\n",
    "import openpyxl\n",
    "\n",
    "####IMPORT LOCAL\n",
    "from header_list import headers"
   ]
  },
  {
   "cell_type": "code",
   "execution_count": null,
   "metadata": {},
   "outputs": [],
   "source": [
    "####READ IN\n",
    "\n",
    "##get the excel-file as a workbook\n",
    "wb = openpyxl.load_workbook(\"data/Depot.xlsx\")\n",
    "\n",
    "##we expect the list of names to operate on to be on the first sheet, column A\n",
    "sheet = wb.worksheets[0]\n",
    "\n",
    "#if it's the first time running, create a StockPriceUpdate-sheet\n",
    "if \"StockPriceUpdate\" not in wb.sheetnames:\n",
    "    update_sheet = wb.create_sheet(\"StockPriceUpdate\")\n",
    "    first_time = True\n",
    "\n",
    "#when it exists, we refer to it as update_sheet\n",
    "update_sheet = wb[\"StockPriceUpdate\"]\n",
    "\n",
    "#StockPriceUpdate will have the names in column A and the updated prices in column B. All old data will be at C onwards.\n",
    "update_sheet.insert_cols(idx=1)\n",
    "update_sheet.insert_cols(idx=2)\n",
    "\n",
    "##update the header\n",
    "update_sheet[\"A1\"] = \"names\"\n",
    "\n",
    "update_sheet[\"B1\"] = f'{datetime.now().strftime(\"Data %d/%m/%Y %H:%M\")}'\n",
    "\n",
    "\n"
   ]
  },
  {
   "cell_type": "code",
   "execution_count": null,
   "metadata": {},
   "outputs": [],
   "source": [
    "####FUNCTIONS\n",
    "def make_url(name):\n",
    "    url = f\"https://www.finanzen.net/aktien/{name}-aktie\"\n",
    "    return url\n",
    "\n",
    "def get_price(url):\n",
    "    try:\n",
    "        response = requests.get(url, headers=random.choice(headers), timeout=10)\n",
    "        response.raise_for_status()  \n",
    "        \n",
    "    except requests.exceptions.HTTPError as e:\n",
    "        if e.response.status_code == 404:  \n",
    "            print(f\"404: Skipping {url}\")\n",
    "            return None  \n",
    "        else:\n",
    "            raise  \n",
    "            \n",
    "    except (requests.exceptions.RequestException, \n",
    "            requests.exceptions.Timeout,\n",
    "            requests.exceptions.SSLError) as e:\n",
    "        print(f\"Network error ({type(e).__name__}): Skipping {url}\")\n",
    "        return None\n",
    "        \n",
    "    try:\n",
    "        soup = BeautifulSoup(response.text, 'html.parser')\n",
    "        span_tag = soup.find('span', class_='snapshot__value')\n",
    "        number = span_tag.get_text(strip=True)\n",
    "        return number\n",
    "        \n",
    "    except AttributeError: \n",
    "        print(f\"Missing price element: Skipping {url}\")\n",
    "        return None\n",
    "\n"
   ]
  },
  {
   "cell_type": "code",
   "execution_count": null,
   "metadata": {},
   "outputs": [],
   "source": [
    "##row=2 to skip header, start=2 to preserve identity of rows\n",
    "\n",
    "for cell_value in sheet.iter_cols(min_col=1, max_col=1, min_row=2, values_only=True):\n",
    "    for row_idx, stock_name in enumerate(cell_value, start=2):\n",
    "        if stock_name is not None and stock_name != \"NaN\":\n",
    "            url = make_url(stock_name)\n",
    "            print(url)\n",
    "            price = get_price(url)\n",
    "            update_sheet[f\"A{row_idx}\"] = stock_name\n",
    "            update_sheet[f\"B{row_idx}\"] = price"
   ]
  },
  {
   "cell_type": "code",
   "execution_count": null,
   "metadata": {},
   "outputs": [],
   "source": [
    "####SAVE IT\n",
    "\n",
    "date=datetime.now().strftime(\"Data %d_%m_%Y-%H:%M\")\n",
    "wb.save(f'updated_depot_{date}.xlsx')\n"
   ]
  }
 ],
 "metadata": {
  "kernelspec": {
   "display_name": "venv",
   "language": "python",
   "name": "python3"
  },
  "language_info": {
   "codemirror_mode": {
    "name": "ipython",
    "version": 3
   },
   "file_extension": ".py",
   "mimetype": "text/x-python",
   "name": "python",
   "nbconvert_exporter": "python",
   "pygments_lexer": "ipython3",
   "version": "3.12.3"
  }
 },
 "nbformat": 4,
 "nbformat_minor": 2
}
